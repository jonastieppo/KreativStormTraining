{
 "cells": [
  {
   "cell_type": "code",
   "execution_count": 2,
   "metadata": {},
   "outputs": [],
   "source": [
    "import os\n",
    "import pandas as pd\n",
    "import seaborn as sns\n",
    "from scipy.stats import shapiro, monte_carlo_test\n",
    "import scipy.stats as st\n",
    "import statsmodels.api as sm\n",
    "import numpy as np\n",
    "import matplotlib.pyplot as plt \n",
    "from stats_test import shapiro_test\n",
    "from scipy.stats import f_oneway\n",
    "from statstests.process import stepwise\n",
    "from test_report import test_report\n",
    "from scipy.stats import t, zscore\n",
    "\n",
    "path = os.path.join(os.getcwd(), 'datasets','Birthweight.csv')\n",
    "dataset = pd.read_csv(path, sep=',', decimal='.')\n",
    "path = os.path.join(os.getcwd(), 'datasets','Cholesterol.csv')\n",
    "dataset_cholesterol = pd.read_csv(path, sep=',', decimal='.')\n"
   ]
  },
  {
   "cell_type": "code",
   "execution_count": null,
   "metadata": {},
   "outputs": [
    {
     "name": "stdout",
     "output_type": "stream",
     "text": [
      "\n",
      "A residual represents the difference between a predicted value and the corresponding experimental value for the same independent variable (or conjunt of indenpendent variable).\n",
      "\n"
     ]
    }
   ],
   "source": [
    "'''\n",
    "In your own words, describe what a residual is in linear regression.\n",
    "'''\n",
    "print('''\n",
    "A residual represents the difference between a predicted value and the corresponding experimental value for the same \n",
    "independent variable (or conjunt of indenpendent variable).\n",
    "''')"
   ]
  },
  {
   "cell_type": "code",
   "execution_count": null,
   "metadata": {},
   "outputs": [
    {
     "name": "stdout",
     "output_type": "stream",
     "text": [
      "\n",
      "Based on the figure, it’s clear that the model is more accurate at lower values of the independent variable. However, the model is likely heteroscedastic, making predictions in such cases unreliable.\n",
      "\n"
     ]
    }
   ],
   "source": [
    "'''\n",
    "Q2. If you know that your residual data follow the below pattern, are your data better approximated with a linear model for the lower values of independent variable or higher values of independent variable and why?\n",
    "'''\n",
    "print('''\n",
    "Based on the figure, it’s clear that the model is more accurate at lower values of the independent variable. \n",
    "However, the model is likely heteroscedastic, making predictions in such cases unreliable.\n",
    "''')"
   ]
  },
  {
   "cell_type": "code",
   "execution_count": 5,
   "metadata": {},
   "outputs": [
    {
     "name": "stdout",
     "output_type": "stream",
     "text": [
      "R² generally increases when more predictors are added, even if they do not contribute meaningfully to the model. \n",
      "      Adjusted R², on the other hand, increases only if the new predictor improves the model more than would be expected by chance.\n"
     ]
    }
   ],
   "source": [
    "'''\n",
    "Q3. What is the difference between R2 and adjusted R2?\n",
    "'''\n",
    "print(r'''R² generally increases when more predictors are added, even if they do not contribute meaningfully to the model. \n",
    "      Adjusted R², on the other hand, increases only if the new predictor improves the model more than would be expected by chance.''')\n"
   ]
  },
  {
   "cell_type": "code",
   "execution_count": 6,
   "metadata": {},
   "outputs": [
    {
     "name": "stdout",
     "output_type": "stream",
     "text": [
      "Regression type: OLS \n",
      "\n",
      "Estimating model...: \n",
      " Length ~ Q('Birthweight') + Q('Headcirc') + Q('Gestation') + Q('smoker') + Q('mage') + Q('mnocig') + Q('mheight') + Q('mppwt') + Q('fage') + Q('fedyrs') + Q('fnocig') + Q('fheight') + Q('lowbwt') + Q('mage35')\n",
      "\n",
      " Discarding atribute \"Q('fedyrs')\" with p-value equal to 0.8401912402299102 \n",
      "\n",
      "Estimating model...: \n",
      " Length ~ Q('Birthweight') + Q('Headcirc') + Q('Gestation') + Q('smoker') + Q('mage') + Q('mnocig') + Q('mheight') + Q('mppwt') + Q('fage') + Q('fnocig') + Q('fheight') + Q('lowbwt') + Q('mage35')\n",
      "\n",
      " Discarding atribute \"Q('Headcirc')\" with p-value equal to 0.7988220962807071 \n",
      "\n",
      "Estimating model...: \n",
      " Length ~ Q('Birthweight') + Q('Gestation') + Q('smoker') + Q('mage') + Q('mnocig') + Q('mheight') + Q('mppwt') + Q('fage') + Q('fnocig') + Q('fheight') + Q('lowbwt') + Q('mage35')\n",
      "\n",
      " Discarding atribute \"Q('smoker')\" with p-value equal to 0.7744358805948228 \n",
      "\n",
      "Estimating model...: \n",
      " Length ~ Q('Birthweight') + Q('Gestation') + Q('mage') + Q('mnocig') + Q('mheight') + Q('mppwt') + Q('fage') + Q('fnocig') + Q('fheight') + Q('lowbwt') + Q('mage35')\n",
      "\n",
      " Discarding atribute \"Q('fage')\" with p-value equal to 0.4425793313915667 \n",
      "\n",
      "Estimating model...: \n",
      " Length ~ Q('Birthweight') + Q('Gestation') + Q('mage') + Q('mnocig') + Q('mheight') + Q('mppwt') + Q('fnocig') + Q('fheight') + Q('lowbwt') + Q('mage35')\n",
      "\n",
      " Discarding atribute \"Q('fheight')\" with p-value equal to 0.4583857336975824 \n",
      "\n",
      "Estimating model...: \n",
      " Length ~ Q('Birthweight') + Q('Gestation') + Q('mage') + Q('mnocig') + Q('mheight') + Q('mppwt') + Q('fnocig') + Q('lowbwt') + Q('mage35')\n",
      "\n",
      " Discarding atribute \"Q('mppwt')\" with p-value equal to 0.3976624779392245 \n",
      "\n",
      "Estimating model...: \n",
      " Length ~ Q('Birthweight') + Q('Gestation') + Q('mage') + Q('mnocig') + Q('mheight') + Q('fnocig') + Q('lowbwt') + Q('mage35')\n",
      "\n",
      " Discarding atribute \"Q('mnocig')\" with p-value equal to 0.20884058275343012 \n",
      "\n",
      "Estimating model...: \n",
      " Length ~ Q('Birthweight') + Q('Gestation') + Q('mage') + Q('mheight') + Q('fnocig') + Q('lowbwt') + Q('mage35')\n",
      "\n",
      " Discarding atribute \"Q('mage')\" with p-value equal to 0.1368622980216501 \n",
      "\n",
      "Estimating model...: \n",
      " Length ~ Q('Birthweight') + Q('Gestation') + Q('mheight') + Q('fnocig') + Q('lowbwt') + Q('mage35')\n",
      "\n",
      " Discarding atribute \"Q('fnocig')\" with p-value equal to 0.15486730539754798 \n",
      "\n",
      "Estimating model...: \n",
      " Length ~ Q('Birthweight') + Q('Gestation') + Q('mheight') + Q('lowbwt') + Q('mage35')\n",
      "\n",
      " Discarding atribute \"Q('lowbwt')\" with p-value equal to 0.1567759338101947 \n",
      "\n",
      "Estimating model...: \n",
      " Length ~ Q('Birthweight') + Q('Gestation') + Q('mheight') + Q('mage35')\n",
      "\n",
      " Discarding atribute \"Q('mage35')\" with p-value equal to 0.14822087034001236 \n",
      "\n",
      "Estimating model...: \n",
      " Length ~ Q('Birthweight') + Q('Gestation') + Q('mheight')\n",
      "\n",
      " No more atributes with p-value higher than 0.05\n",
      "\n",
      " Atributes discarded on the process...: \n",
      "\n",
      "{'atribute': \"Q('fedyrs')\", 'p-value': np.float64(0.8401912402299102)}\n",
      "{'atribute': \"Q('Headcirc')\", 'p-value': np.float64(0.7988220962807071)}\n",
      "{'atribute': \"Q('smoker')\", 'p-value': np.float64(0.7744358805948228)}\n",
      "{'atribute': \"Q('fage')\", 'p-value': np.float64(0.4425793313915667)}\n",
      "{'atribute': \"Q('fheight')\", 'p-value': np.float64(0.4583857336975824)}\n",
      "{'atribute': \"Q('mppwt')\", 'p-value': np.float64(0.3976624779392245)}\n",
      "{'atribute': \"Q('mnocig')\", 'p-value': np.float64(0.20884058275343012)}\n",
      "{'atribute': \"Q('mage')\", 'p-value': np.float64(0.1368622980216501)}\n",
      "{'atribute': \"Q('fnocig')\", 'p-value': np.float64(0.15486730539754798)}\n",
      "{'atribute': \"Q('lowbwt')\", 'p-value': np.float64(0.1567759338101947)}\n",
      "{'atribute': \"Q('mage35')\", 'p-value': np.float64(0.14822087034001236)}\n",
      "\n",
      " Model after stepwise process...: \n",
      " Length ~ Q('Birthweight') + Q('Gestation') + Q('mheight') \n",
      "\n",
      "                            OLS Regression Results                            \n",
      "==============================================================================\n",
      "Dep. Variable:                 Length   R-squared:                       0.667\n",
      "Model:                            OLS   Adj. R-squared:                  0.641\n",
      "Method:                 Least Squares   F-statistic:                     25.38\n",
      "Date:                Fri, 08 Nov 2024   Prob (F-statistic):           3.49e-09\n",
      "Time:                        19:02:06   Log-Likelihood:                -81.226\n",
      "No. Observations:                  42   AIC:                             170.5\n",
      "Df Residuals:                      38   BIC:                             177.4\n",
      "Df Model:                           3                                         \n",
      "Covariance Type:            nonrobust                                         \n",
      "====================================================================================\n",
      "                       coef    std err          t      P>|t|      [0.025      0.975]\n",
      "------------------------------------------------------------------------------------\n",
      "Intercept            7.6185      8.496      0.897      0.375      -9.580      24.817\n",
      "Q('Birthweight')     1.6411      0.678      2.420      0.020       0.269       3.014\n",
      "Q('Gestation')       0.4529      0.148      3.067      0.004       0.154       0.752\n",
      "Q('mheight')         0.1248      0.045      2.746      0.009       0.033       0.217\n",
      "==============================================================================\n",
      "Omnibus:                        1.154   Durbin-Watson:                   2.232\n",
      "Prob(Omnibus):                  0.561   Jarque-Bera (JB):                0.654\n",
      "Skew:                          -0.301   Prob(JB):                        0.721\n",
      "Kurtosis:                       3.101   Cond. No.                     5.30e+03\n",
      "==============================================================================\n",
      "\n",
      "Notes:\n",
      "[1] Standard Errors assume that the covariance matrix of the errors is correctly specified.\n",
      "[2] The condition number is large, 5.3e+03. This might indicate that there are\n",
      "strong multicollinearity or other numerical problems.\n"
     ]
    }
   ],
   "source": [
    "'''\n",
    "Q4. Is there independence of observations if you are trying to predict baby length with mother’s height?\n",
    "Yes\n",
    "No\n",
    "'''\n",
    "\n",
    "# Estimate and fit model\n",
    "\n",
    "columns_model = [c for c in dataset.columns if c not in ['ID', 'Length']]\n",
    "columns_model_string = \" + \".join(columns_model)\n",
    "\n",
    "model = sm.OLS.from_formula(\"Length ~ + \" + columns_model_string, dataset).fit()\n",
    "\n",
    "# Stepwise process\n",
    "result = stepwise(model, pvalue_limit=0.05)\n"
   ]
  },
  {
   "cell_type": "code",
   "execution_count": 7,
   "metadata": {},
   "outputs": [
    {
     "name": "stdout",
     "output_type": "stream",
     "text": [
      "\n",
      "After step wise procedure,\n",
      "      \n",
      "only Birthweight,Gestation and mheight remained valid. Hence, mother’s height is a independent variable.\n",
      "\n",
      "\n"
     ]
    }
   ],
   "source": [
    "'''\n",
    "Q5. Justify the above answer.\n",
    "'''\n",
    "\n",
    "print('''\n",
    "After step wise procedure,\n",
    "      \n",
    "only Birthweight,Gestation and mheight remained valid. Hence, mother’s height is a independent variable.\n",
    "\n",
    "''')\n",
    "\n"
   ]
  },
  {
   "cell_type": "code",
   "execution_count": 8,
   "metadata": {},
   "outputs": [
    {
     "name": "stdout",
     "output_type": "stream",
     "text": [
      "As p-value is greater than 5%, \n",
      " it is normally distributed.\n",
      "The residual showed no correlation with the predictor data, and are normally distributed. Hence, there is no homoscedasticity. \n"
     ]
    },
    {
     "data": {
      "image/png": "[encoded data removed]",
      "text/plain": [
       "<Figure size 640x480 with 1 Axes>"
      ]
     },
     "metadata": {},
     "output_type": "display_data"
    },
    {
     "data": {
      "image/png": "[encoded data removed]",
      "text/plain": [
       "<Figure size 640x480 with 1 Axes>"
      ]
     },
     "metadata": {},
     "output_type": "display_data"
    }
   ],
   "source": [
    "'''\n",
    "Q6. Do residual data show homoscedasticity?\n",
    "Yes\n",
    "No\n",
    "'''\n",
    "\n",
    "model_len_mheight = sm.OLS.from_formula(\"Length ~ mheight\", dataset).fit()\n",
    "\n",
    "dataset['fittedvalues'] = model_len_mheight.fittedvalues\n",
    "dataset['residual'] = model_len_mheight.fittedvalues - dataset['Length']\n",
    "\n",
    "sns.scatterplot(data=dataset, x='mheight', y='residual')\n",
    "model = sm.OLS.from_formula(\"residual ~ mheight\", dataset).fit()\n",
    "model.summary()\n",
    "\n",
    "shapiro_test(dataset['residual'])\n",
    "\n",
    "print(\"The residual showed no correlation with the predictor data, and are normally distributed. Hence, there is no homoscedasticity. \")\n"
   ]
  },
  {
   "cell_type": "code",
   "execution_count": 9,
   "metadata": {},
   "outputs": [
    {
     "name": "stdout",
     "output_type": "stream",
     "text": [
      "Tthe r² of 0.235 tells 23.5% of the baby's length can be explained by mother's height.\n"
     ]
    },
    {
     "data": {
      "text/html": [
       "<table class=\"simpletable\">\n",
       "<caption>OLS Regression Results</caption>\n",
       "<tr>\n",
       "  <th>Dep. Variable:</th>         <td>Length</td>      <th>  R-squared:         </th> <td>   0.235</td>\n",
       "</tr>\n",
       "<tr>\n",
       "  <th>Model:</th>                   <td>OLS</td>       <th>  Adj. R-squared:    </th> <td>   0.216</td>\n",
       "</tr>\n",
       "<tr>\n",
       "  <th>Method:</th>             <td>Least Squares</td>  <th>  F-statistic:       </th> <td>   12.30</td>\n",
       "</tr>\n",
       "<tr>\n",
       "  <th>Date:</th>             <td>Fri, 08 Nov 2024</td> <th>  Prob (F-statistic):</th>  <td>0.00113</td>\n",
       "</tr>\n",
       "<tr>\n",
       "  <th>Time:</th>                 <td>19:02:07</td>     <th>  Log-Likelihood:    </th> <td> -98.689</td>\n",
       "</tr>\n",
       "<tr>\n",
       "  <th>No. Observations:</th>      <td>    42</td>      <th>  AIC:               </th> <td>   201.4</td>\n",
       "</tr>\n",
       "<tr>\n",
       "  <th>Df Residuals:</th>          <td>    40</td>      <th>  BIC:               </th> <td>   204.9</td>\n",
       "</tr>\n",
       "<tr>\n",
       "  <th>Df Model:</th>              <td>     1</td>      <th>                     </th>     <td> </td>   \n",
       "</tr>\n",
       "<tr>\n",
       "  <th>Covariance Type:</th>      <td>nonrobust</td>    <th>                     </th>     <td> </td>   \n",
       "</tr>\n",
       "</table>\n",
       "<table class=\"simpletable\">\n",
       "<tr>\n",
       "      <td></td>         <th>coef</th>     <th>std err</th>      <th>t</th>      <th>P>|t|</th>  <th>[0.025</th>    <th>0.975]</th>  \n",
       "</tr>\n",
       "<tr>\n",
       "  <th>Intercept</th> <td>   15.3342</td> <td>   10.271</td> <td>    1.493</td> <td> 0.143</td> <td>   -5.425</td> <td>   36.093</td>\n",
       "</tr>\n",
       "<tr>\n",
       "  <th>mheight</th>   <td>    0.2189</td> <td>    0.062</td> <td>    3.507</td> <td> 0.001</td> <td>    0.093</td> <td>    0.345</td>\n",
       "</tr>\n",
       "</table>\n",
       "<table class=\"simpletable\">\n",
       "<tr>\n",
       "  <th>Omnibus:</th>       <td> 0.736</td> <th>  Durbin-Watson:     </th> <td>   1.724</td>\n",
       "</tr>\n",
       "<tr>\n",
       "  <th>Prob(Omnibus):</th> <td> 0.692</td> <th>  Jarque-Bera (JB):  </th> <td>   0.358</td>\n",
       "</tr>\n",
       "<tr>\n",
       "  <th>Skew:</th>          <td>-0.224</td> <th>  Prob(JB):          </th> <td>   0.836</td>\n",
       "</tr>\n",
       "<tr>\n",
       "  <th>Kurtosis:</th>      <td> 3.059</td> <th>  Cond. No.          </th> <td>4.22e+03</td>\n",
       "</tr>\n",
       "</table><br/><br/>Notes:<br/>[1] Standard Errors assume that the covariance matrix of the errors is correctly specified.<br/>[2] The condition number is large, 4.22e+03. This might indicate that there are<br/>strong multicollinearity or other numerical problems."
      ],
      "text/latex": [
       "\\begin{center}\n",
       "\\begin{tabular}{lclc}\n",
       "\\toprule\n",
       "\\textbf{Dep. Variable:}    &      Length      & \\textbf{  R-squared:         } &     0.235   \\\\\n",
       "\\textbf{Model:}            &       OLS        & \\textbf{  Adj. R-squared:    } &     0.216   \\\\\n",
       "\\textbf{Method:}           &  Least Squares   & \\textbf{  F-statistic:       } &     12.30   \\\\\n",
       "\\textbf{Date:}             & Fri, 08 Nov 2024 & \\textbf{  Prob (F-statistic):} &  0.00113    \\\\\n",
       "\\textbf{Time:}             &     19:02:07     & \\textbf{  Log-Likelihood:    } &   -98.689   \\\\\n",
       "\\textbf{No. Observations:} &          42      & \\textbf{  AIC:               } &     201.4   \\\\\n",
       "\\textbf{Df Residuals:}     &          40      & \\textbf{  BIC:               } &     204.9   \\\\\n",
       "\\textbf{Df Model:}         &           1      & \\textbf{                     } &             \\\\\n",
       "\\textbf{Covariance Type:}  &    nonrobust     & \\textbf{                     } &             \\\\\n",
       "\\bottomrule\n",
       "\\end{tabular}\n",
       "\\begin{tabular}{lcccccc}\n",
       "                   & \\textbf{coef} & \\textbf{std err} & \\textbf{t} & \\textbf{P$> |$t$|$} & \\textbf{[0.025} & \\textbf{0.975]}  \\\\\n",
       "\\midrule\n",
       "\\textbf{Intercept} &      15.3342  &       10.271     &     1.493  &         0.143        &       -5.425    &       36.093     \\\\\n",
       "\\textbf{mheight}   &       0.2189  &        0.062     &     3.507  &         0.001        &        0.093    &        0.345     \\\\\n",
       "\\bottomrule\n",
       "\\end{tabular}\n",
       "\\begin{tabular}{lclc}\n",
       "\\textbf{Omnibus:}       &  0.736 & \\textbf{  Durbin-Watson:     } &    1.724  \\\\\n",
       "\\textbf{Prob(Omnibus):} &  0.692 & \\textbf{  Jarque-Bera (JB):  } &    0.358  \\\\\n",
       "\\textbf{Skew:}          & -0.224 & \\textbf{  Prob(JB):          } &    0.836  \\\\\n",
       "\\textbf{Kurtosis:}      &  3.059 & \\textbf{  Cond. No.          } & 4.22e+03  \\\\\n",
       "\\bottomrule\n",
       "\\end{tabular}\n",
       "%\\caption{OLS Regression Results}\n",
       "\\end{center}\n",
       "\n",
       "Notes: \\newline\n",
       " [1] Standard Errors assume that the covariance matrix of the errors is correctly specified. \\newline\n",
       " [2] The condition number is large, 4.22e+03. This might indicate that there are \\newline\n",
       " strong multicollinearity or other numerical problems."
      ],
      "text/plain": [
       "<class 'statsmodels.iolib.summary.Summary'>\n",
       "\"\"\"\n",
       "                            OLS Regression Results                            \n",
       "==============================================================================\n",
       "Dep. Variable:                 Length   R-squared:                       0.235\n",
       "Model:                            OLS   Adj. R-squared:                  0.216\n",
       "Method:                 Least Squares   F-statistic:                     12.30\n",
       "Date:                Fri, 08 Nov 2024   Prob (F-statistic):            0.00113\n",
       "Time:                        19:02:07   Log-Likelihood:                -98.689\n",
       "No. Observations:                  42   AIC:                             201.4\n",
       "Df Residuals:                      40   BIC:                             204.9\n",
       "Df Model:                           1                                         \n",
       "Covariance Type:            nonrobust                                         \n",
       "==============================================================================\n",
       "                 coef    std err          t      P>|t|      [0.025      0.975]\n",
       "------------------------------------------------------------------------------\n",
       "Intercept     15.3342     10.271      1.493      0.143      -5.425      36.093\n",
       "mheight        0.2189      0.062      3.507      0.001       0.093       0.345\n",
       "==============================================================================\n",
       "Omnibus:                        0.736   Durbin-Watson:                   1.724\n",
       "Prob(Omnibus):                  0.692   Jarque-Bera (JB):                0.358\n",
       "Skew:                          -0.224   Prob(JB):                        0.836\n",
       "Kurtosis:                       3.059   Cond. No.                     4.22e+03\n",
       "==============================================================================\n",
       "\n",
       "Notes:\n",
       "[1] Standard Errors assume that the covariance matrix of the errors is correctly specified.\n",
       "[2] The condition number is large, 4.22e+03. This might indicate that there are\n",
       "strong multicollinearity or other numerical problems.\n",
       "\"\"\""
      ]
     },
     "execution_count": 9,
     "metadata": {},
     "output_type": "execute_result"
    }
   ],
   "source": [
    "'''\n",
    "Q8. What is the value of R2 and what does this tell you?\n",
    "'''\n",
    "\n",
    "print(\"Tthe r² of 0.235 tells 23.5% of the baby's length can be explained by mother's height.\")\n",
    "model_len_mheight.summary()\n",
    "\n",
    "\n",
    "\n"
   ]
  },
  {
   "cell_type": "code",
   "execution_count": 10,
   "metadata": {},
   "outputs": [
    {
     "name": "stdout",
     "output_type": "stream",
     "text": [
      "\n",
      "Yes, I can, once the p-value for the variable mheight is lower than 5%, after applying a t-test.\n",
      "\n"
     ]
    }
   ],
   "source": [
    "'''\n",
    "Q9. Can you consider the relationship between mother’s height and baby length a statistically significant linear relationship and why?\n",
    "'''\n",
    "print('''\n",
    "Yes, I can, once the p-value for the variable mheight is lower than 5%, after applying a t-test.\n",
    "''')"
   ]
  },
  {
   "cell_type": "code",
   "execution_count": null,
   "metadata": {},
   "outputs": [
    {
     "name": "stdout",
     "output_type": "stream",
     "text": [
      "The null hypothesis is that the model is equal to the mean model (slope of the linear regression is zero); while the alternative hypothesis is that is greater than zero.\n"
     ]
    }
   ],
   "source": [
    "'''\n",
    "Q10. Having the ANOVA table for the linear regression in mind, what is the null and alternative hypothesis in this case?\n",
    "'''\n",
    "print('The null hypothesis is that the model is equal to the mean model (slope of the linear regression is zero); \\n while the alternative hypothesis is that is greater than zero.')\n"
   ]
  },
  {
   "cell_type": "code",
   "execution_count": 12,
   "metadata": {},
   "outputs": [
    {
     "name": "stdout",
     "output_type": "stream",
     "text": [
      "B1 is the coefficient that applies a linear transformation to the independent variable, relating it to the dependent variable.\n"
     ]
    }
   ],
   "source": [
    "'''\n",
    "Q11. In your own words, describe what the b1 is.\n",
    "'''\n",
    "print(\"B1 is the coefficient that applies a linear transformation to the independent variable, relating it to the dependent variable.\")"
   ]
  },
  {
   "cell_type": "code",
   "execution_count": 13,
   "metadata": {},
   "outputs": [
    {
     "name": "stdout",
     "output_type": "stream",
     "text": [
      "In practical terms, this means that for each unit increase in the mother's height, the baby's length increases by 0.21 units.\n"
     ]
    }
   ],
   "source": [
    "'''\n",
    "Q12. What does the value of b1 tell you in practical terms?\n",
    "'''\n",
    "print(\"In practical terms, this means that for each unit increase in the mother's height, the baby's length increases by 0.21 units.\")"
   ]
  },
  {
   "cell_type": "code",
   "execution_count": 14,
   "metadata": {},
   "outputs": [
    {
     "name": "stdout",
     "output_type": "stream",
     "text": [
      "No, you can't. Because it is outside the range of fitted data.\n"
     ]
    },
    {
     "data": {
      "image/png": "[encoded data removed]",
      "text/plain": [
       "<Figure size 640x480 with 1 Axes>"
      ]
     },
     "metadata": {},
     "output_type": "display_data"
    }
   ],
   "source": [
    "'''\n",
    "Q13. Could you claim the same for the mother’s height in the range between 140cm and 145cm and why?\n",
    "\n",
    "'''\n",
    "sns.regplot(data=dataset, y='Length', x='mheight')\n",
    "\n",
    "print(\"No, you can't. Because it is outside the range of fitted data.\")"
   ]
  },
  {
   "cell_type": "code",
   "execution_count": 15,
   "metadata": {},
   "outputs": [
    {
     "name": "stdout",
     "output_type": "stream",
     "text": [
      "The baby's length is 52.55 cm.\n"
     ]
    }
   ],
   "source": [
    "'''\n",
    "Q14. According to this model, what is the prediction of baby length for mother’s height of 170cm?\n",
    "'''\n",
    "prediction_input = pd.DataFrame({'mheight': [170]})\n",
    "predicted_length = model_len_mheight.predict(prediction_input)\n",
    "\n",
    "print(f\"The baby's length is {predicted_length[0]:.2f} cm.\")"
   ]
  },
  {
   "cell_type": "code",
   "execution_count": null,
   "metadata": {},
   "outputs": [
    {
     "name": "stdout",
     "output_type": "stream",
     "text": [
      "A linear regression predicted the relationship between mother's height and baby's length with statistical significance (a t-test revealed a p-value of 0.001, which is < 5%).\n",
      "\n",
      "With this model, the expected length of a baby whose mother has a height of 170 cm is:\n",
      "y = 15.33 + 0.22 * 170 = 52.55 cm.\n",
      "\n"
     ]
    }
   ],
   "source": [
    "'''\n",
    "Q15. Report on your findings for predicting baby length with mother’s height.\n",
    "'''\n",
    "print(f\"\"\"A linear regression predicted the relationship between mother's height and baby's length \n",
    "      with statistical significance (a t-test revealed a p-value of 0.001, which is < 5%).\n",
    "\n",
    "With this model, the expected length of a baby whose mother has a height of 170 cm is:\n",
    "y = {model_len_mheight.params['Intercept']:.2f} + {model_len_mheight.params['mheight']:.2f} * 170 = {predicted_length[0]:.2f} cm.\n",
    "\"\"\")\n"
   ]
  },
  {
   "cell_type": "code",
   "execution_count": 17,
   "metadata": {},
   "outputs": [
    {
     "name": "stdout",
     "output_type": "stream",
     "text": [
      "\n",
      "No you can't. The step-wise discarted the fheight featurem. Otherwise, after performing a linear regression, the b1 is not statiscally significant\n",
      "\n"
     ]
    },
    {
     "data": {
      "text/html": [
       "<table class=\"simpletable\">\n",
       "<caption>OLS Regression Results</caption>\n",
       "<tr>\n",
       "  <th>Dep. Variable:</th>         <td>Length</td>      <th>  R-squared:         </th> <td>   0.043</td>\n",
       "</tr>\n",
       "<tr>\n",
       "  <th>Model:</th>                   <td>OLS</td>       <th>  Adj. R-squared:    </th> <td>   0.019</td>\n",
       "</tr>\n",
       "<tr>\n",
       "  <th>Method:</th>             <td>Least Squares</td>  <th>  F-statistic:       </th> <td>   1.815</td>\n",
       "</tr>\n",
       "<tr>\n",
       "  <th>Date:</th>             <td>Fri, 08 Nov 2024</td> <th>  Prob (F-statistic):</th>  <td> 0.185</td> \n",
       "</tr>\n",
       "<tr>\n",
       "  <th>Time:</th>                 <td>19:02:07</td>     <th>  Log-Likelihood:    </th> <td> -103.39</td>\n",
       "</tr>\n",
       "<tr>\n",
       "  <th>No. Observations:</th>      <td>    42</td>      <th>  AIC:               </th> <td>   210.8</td>\n",
       "</tr>\n",
       "<tr>\n",
       "  <th>Df Residuals:</th>          <td>    40</td>      <th>  BIC:               </th> <td>   214.3</td>\n",
       "</tr>\n",
       "<tr>\n",
       "  <th>Df Model:</th>              <td>     1</td>      <th>                     </th>     <td> </td>   \n",
       "</tr>\n",
       "<tr>\n",
       "  <th>Covariance Type:</th>      <td>nonrobust</td>    <th>                     </th>     <td> </td>   \n",
       "</tr>\n",
       "</table>\n",
       "<table class=\"simpletable\">\n",
       "<tr>\n",
       "      <td></td>         <th>coef</th>     <th>std err</th>      <th>t</th>      <th>P>|t|</th>  <th>[0.025</th>    <th>0.975]</th>  \n",
       "</tr>\n",
       "<tr>\n",
       "  <th>Intercept</th> <td>   35.5119</td> <td>   11.751</td> <td>    3.022</td> <td> 0.004</td> <td>   11.762</td> <td>   59.262</td>\n",
       "</tr>\n",
       "<tr>\n",
       "  <th>fheight</th>   <td>    0.0877</td> <td>    0.065</td> <td>    1.347</td> <td> 0.185</td> <td>   -0.044</td> <td>    0.219</td>\n",
       "</tr>\n",
       "</table>\n",
       "<table class=\"simpletable\">\n",
       "<tr>\n",
       "  <th>Omnibus:</th>       <td> 0.880</td> <th>  Durbin-Watson:     </th> <td>   1.734</td>\n",
       "</tr>\n",
       "<tr>\n",
       "  <th>Prob(Omnibus):</th> <td> 0.644</td> <th>  Jarque-Bera (JB):  </th> <td>   0.234</td>\n",
       "</tr>\n",
       "<tr>\n",
       "  <th>Skew:</th>          <td>-0.079</td> <th>  Prob(JB):          </th> <td>   0.890</td>\n",
       "</tr>\n",
       "<tr>\n",
       "  <th>Kurtosis:</th>      <td> 3.330</td> <th>  Cond. No.          </th> <td>4.73e+03</td>\n",
       "</tr>\n",
       "</table><br/><br/>Notes:<br/>[1] Standard Errors assume that the covariance matrix of the errors is correctly specified.<br/>[2] The condition number is large, 4.73e+03. This might indicate that there are<br/>strong multicollinearity or other numerical problems."
      ],
      "text/latex": [
       "\\begin{center}\n",
       "\\begin{tabular}{lclc}\n",
       "\\toprule\n",
       "\\textbf{Dep. Variable:}    &      Length      & \\textbf{  R-squared:         } &     0.043   \\\\\n",
       "\\textbf{Model:}            &       OLS        & \\textbf{  Adj. R-squared:    } &     0.019   \\\\\n",
       "\\textbf{Method:}           &  Least Squares   & \\textbf{  F-statistic:       } &     1.815   \\\\\n",
       "\\textbf{Date:}             & Fri, 08 Nov 2024 & \\textbf{  Prob (F-statistic):} &    0.185    \\\\\n",
       "\\textbf{Time:}             &     19:02:07     & \\textbf{  Log-Likelihood:    } &   -103.39   \\\\\n",
       "\\textbf{No. Observations:} &          42      & \\textbf{  AIC:               } &     210.8   \\\\\n",
       "\\textbf{Df Residuals:}     &          40      & \\textbf{  BIC:               } &     214.3   \\\\\n",
       "\\textbf{Df Model:}         &           1      & \\textbf{                     } &             \\\\\n",
       "\\textbf{Covariance Type:}  &    nonrobust     & \\textbf{                     } &             \\\\\n",
       "\\bottomrule\n",
       "\\end{tabular}\n",
       "\\begin{tabular}{lcccccc}\n",
       "                   & \\textbf{coef} & \\textbf{std err} & \\textbf{t} & \\textbf{P$> |$t$|$} & \\textbf{[0.025} & \\textbf{0.975]}  \\\\\n",
       "\\midrule\n",
       "\\textbf{Intercept} &      35.5119  &       11.751     &     3.022  &         0.004        &       11.762    &       59.262     \\\\\n",
       "\\textbf{fheight}   &       0.0877  &        0.065     &     1.347  &         0.185        &       -0.044    &        0.219     \\\\\n",
       "\\bottomrule\n",
       "\\end{tabular}\n",
       "\\begin{tabular}{lclc}\n",
       "\\textbf{Omnibus:}       &  0.880 & \\textbf{  Durbin-Watson:     } &    1.734  \\\\\n",
       "\\textbf{Prob(Omnibus):} &  0.644 & \\textbf{  Jarque-Bera (JB):  } &    0.234  \\\\\n",
       "\\textbf{Skew:}          & -0.079 & \\textbf{  Prob(JB):          } &    0.890  \\\\\n",
       "\\textbf{Kurtosis:}      &  3.330 & \\textbf{  Cond. No.          } & 4.73e+03  \\\\\n",
       "\\bottomrule\n",
       "\\end{tabular}\n",
       "%\\caption{OLS Regression Results}\n",
       "\\end{center}\n",
       "\n",
       "Notes: \\newline\n",
       " [1] Standard Errors assume that the covariance matrix of the errors is correctly specified. \\newline\n",
       " [2] The condition number is large, 4.73e+03. This might indicate that there are \\newline\n",
       " strong multicollinearity or other numerical problems."
      ],
      "text/plain": [
       "<class 'statsmodels.iolib.summary.Summary'>\n",
       "\"\"\"\n",
       "                            OLS Regression Results                            \n",
       "==============================================================================\n",
       "Dep. Variable:                 Length   R-squared:                       0.043\n",
       "Model:                            OLS   Adj. R-squared:                  0.019\n",
       "Method:                 Least Squares   F-statistic:                     1.815\n",
       "Date:                Fri, 08 Nov 2024   Prob (F-statistic):              0.185\n",
       "Time:                        19:02:07   Log-Likelihood:                -103.39\n",
       "No. Observations:                  42   AIC:                             210.8\n",
       "Df Residuals:                      40   BIC:                             214.3\n",
       "Df Model:                           1                                         \n",
       "Covariance Type:            nonrobust                                         \n",
       "==============================================================================\n",
       "                 coef    std err          t      P>|t|      [0.025      0.975]\n",
       "------------------------------------------------------------------------------\n",
       "Intercept     35.5119     11.751      3.022      0.004      11.762      59.262\n",
       "fheight        0.0877      0.065      1.347      0.185      -0.044       0.219\n",
       "==============================================================================\n",
       "Omnibus:                        0.880   Durbin-Watson:                   1.734\n",
       "Prob(Omnibus):                  0.644   Jarque-Bera (JB):                0.234\n",
       "Skew:                          -0.079   Prob(JB):                        0.890\n",
       "Kurtosis:                       3.330   Cond. No.                     4.73e+03\n",
       "==============================================================================\n",
       "\n",
       "Notes:\n",
       "[1] Standard Errors assume that the covariance matrix of the errors is correctly specified.\n",
       "[2] The condition number is large, 4.73e+03. This might indicate that there are\n",
       "strong multicollinearity or other numerical problems.\n",
       "\"\"\""
      ]
     },
     "execution_count": 17,
     "metadata": {},
     "output_type": "execute_result"
    },
    {
     "data": {
      "image/png": "[encoded data removed]",
      "text/plain": [
       "<Figure size 640x480 with 1 Axes>"
      ]
     },
     "metadata": {},
     "output_type": "display_data"
    }
   ],
   "source": [
    "'''\n",
    "Q16. Can you predict baby length with father’s age? Why?\n",
    "'''\n",
    "model_len_fheight = sm.OLS.from_formula(\"Length ~ fheight\", dataset).fit()\n",
    "print('''\n",
    "No you can't. The step-wise discarted the fheight featurem. Otherwise, after performing a linear regression, the b1 is not statiscally significant\n",
    "''')\n",
    "sns.regplot(data=dataset, x='fheight', y='Length')\n",
    "model_len_fheight.summary()"
   ]
  },
  {
   "cell_type": "code",
   "execution_count": null,
   "metadata": {},
   "outputs": [
    {
     "name": "stdout",
     "output_type": "stream",
     "text": [
      "\n",
      "Homogeneity of variance means that the variance within each group being compared is approximately equal. It is an important assumption\n",
      "for t-test because both groups contribute equally to the overall variability in the data, ensuring that one group does not disproportionately influence the test results\n",
      "\n",
      "\n"
     ]
    }
   ],
   "source": [
    "'''\n",
    "Q17. What does homogeneity of variance mean and why is it important assumption of an independent t-test?\n",
    "'''\n",
    "\n",
    "print('''\n",
    "Homogeneity of variance means that the variance within each group being compared \n",
    "is approximately equal. It is an important assumption for t-test because both \n",
    "groups contribute equally to the overall variability in the data, ensuring that \n",
    "one group does not disproportionately influence the test results\n",
    "''')"
   ]
  },
  {
   "cell_type": "code",
   "execution_count": 19,
   "metadata": {},
   "outputs": [
    {
     "name": "stdout",
     "output_type": "stream",
     "text": [
      "Yes\n"
     ]
    }
   ],
   "source": [
    "'''\n",
    "Q18. Is there homogeneity of variance between head circumference for babies of smoking mothers and head circumference for babies of non-smoking mothers?\n",
    "Yes\n",
    "No\n",
    "'''\n",
    "print('Yes')"
   ]
  },
  {
   "cell_type": "code",
   "execution_count": 20,
   "metadata": {},
   "outputs": [
    {
     "name": "stdout",
     "output_type": "stream",
     "text": [
      "Once the p-value is 0.25>5%, we can conclude the two groups have distinct variances.\n"
     ]
    }
   ],
   "source": [
    "'''\n",
    "Q19. Justify your choice.\n",
    "'''\n",
    "smokers = dataset[dataset['smoker']==1]['Headcirc']\n",
    "non_smokers = dataset[dataset['smoker']==0]['Headcirc']\n",
    "_, pvalue = f_oneway(smokers, non_smokers)\n",
    "\n",
    "print(f\"Once the p-value is {pvalue:.2f}>5%, we can conclude the two groups have distinct variances.\")"
   ]
  },
  {
   "cell_type": "code",
   "execution_count": 21,
   "metadata": {},
   "outputs": [
    {
     "name": "stdout",
     "output_type": "stream",
     "text": [
      "\n",
      "            An independent-samples t-test was run to determine if there\n",
      "            were differences in lighter babies for smoker mothers and\n",
      "            non smoker mothers. The lighter babies was NOT shown to be statiscally different,\n",
      "            as the pvalue were found to be 0.04\n",
      "    \n"
     ]
    }
   ],
   "source": [
    "'''\n",
    "Q20. Do smokers have lighter babies? Justify your answer.\n",
    "'''\n",
    "smokers = dataset[dataset['smoker']==1]['Birthweight']\n",
    "non_smokers = dataset[dataset['smoker']==0]['Birthweight']\n",
    "test_report(smokers, non_smokers, outcome_label='lighter babies', predictor_1_label='smoker mothers', predictor_2_label='non smoker mothers')\n"
   ]
  },
  {
   "cell_type": "code",
   "execution_count": 22,
   "metadata": {},
   "outputs": [
    {
     "name": "stdout",
     "output_type": "stream",
     "text": [
      "\n",
      "            An independent-samples t-test was run to determine if there\n",
      "            were differences in lighter babies for over 35 mothers and\n",
      "            younger mothers. The lighter babies was shown to be higher\n",
      "            for younger mothers (M = 3.33, SD = 0.58) than for \n",
      "            over 35 mothers (M = 3.11, SD = 0.90), a statistically significant\n",
      "            difference, M = 0.22, 95% CI[3.14-3.52], \n",
      "            t(38) = 0.48, p = 0.49, d =3.88.\n",
      "    \n"
     ]
    }
   ],
   "source": [
    "'''\n",
    "Q21. Do women over 35 have lighter babies? Justify your answer.\n",
    "'''\n",
    "over35 = dataset[dataset['mage35']==1]['Birthweight']\n",
    "Notover35 = dataset[dataset['mage35']==0]['Birthweight']\n",
    "test_report(over35, Notover35, outcome_label='lighter babies', predictor_1_label='over 35 mothers', predictor_2_label='younger mothers')\n"
   ]
  },
  {
   "cell_type": "code",
   "execution_count": 23,
   "metadata": {},
   "outputs": [
    {
     "name": "stdout",
     "output_type": "stream",
     "text": [
      "\n",
      "            An independent-samples t-test was run to determine if there\n",
      "            were differences in cholesterol for diet (after 8 weeks) and\n",
      "            before diet. The cholesterol was shown to be higher\n",
      "            for before diet (M = 6.41, SD = 1.19) than for \n",
      "            diet (after 8 weeks) (M = 5.78, SD = 1.10), a statistically significant\n",
      "            difference, M = 0.63, 95% CI[5.82-7.00], \n",
      "            t(18) = 2.70, p = 0.11, d =3.67.\n",
      "    \n"
     ]
    }
   ],
   "source": [
    "'''\n",
    "Q22. Using the cholesterol dataset, was the diet effective in lowering cholesterol concentration after 8 weeks of use? Justify your answer.\n",
    "'''\n",
    "after8weeks = dataset_cholesterol['After8weeks']\n",
    "before = dataset_cholesterol['Before']\n",
    "\n",
    "test_report(after8weeks, before, outcome_label='cholesterol', predictor_1_label='diet (after 8 weeks)', predictor_2_label='before diet')"
   ]
  },
  {
   "cell_type": "code",
   "execution_count": 24,
   "metadata": {},
   "outputs": [
    {
     "name": "stdout",
     "output_type": "stream",
     "text": [
      "\n",
      "    The null result would signify no statiscal difference between the group that applied diet and the group that did not. \n",
      "\n"
     ]
    }
   ],
   "source": [
    "'''\n",
    "Q23. For the above case, what is the null and alternative hypothesis? \n",
    "'''\n",
    "print('''\n",
    "    The null result would signify no statiscal difference between the group that applied diet and the group that did not. \n",
    "''')"
   ]
  },
  {
   "cell_type": "code",
   "execution_count": 25,
   "metadata": {},
   "outputs": [
    {
     "name": "stdout",
     "output_type": "stream",
     "text": [
      "\n",
      "            An independent-samples t-test was run to determine if there\n",
      "            were differences in cholesterol for first 4 weeks and\n",
      "            last 4 weeks. The cholesterol was shown to be higher\n",
      "            for last 4 weeks (M = 5.84, SD = 1.12) than for \n",
      "            first 4 weeks (M = 5.78, SD = 1.10), a statistically significant\n",
      "            difference, M = 0.06, 95% CI[5.28-6.40], \n",
      "            t(18) = 0.03, p = 0.87, d =3.74.\n",
      "    \n",
      "Hence, the first 4 weeks were more effective.\n"
     ]
    }
   ],
   "source": [
    "'''\n",
    "Q24. Was the diet more effective in the first 4 weeks of use or the last 4 weeks of use? Justify your answer.\n",
    "'''\n",
    "after4weeks = dataset_cholesterol['After4weeks']\n",
    "\n",
    "test_report(after8weeks, after4weeks, 'cholesterol', 'first 4 weeks', 'last 4 weeks')\n",
    "\n",
    "print(\"Hence, the first 4 weeks were more effective.\")"
   ]
  },
  {
   "cell_type": "code",
   "execution_count": null,
   "metadata": {},
   "outputs": [
    {
     "name": "stdout",
     "output_type": "stream",
     "text": [
      "Performing a shapiro-wilk test to prove it is normally distributed:\n",
      "As p-value is greater than 5%, \n",
      " it is normally distributed.\n",
      "\n",
      " As the mean of the sample is bigger then the average population (3 mmol/L), being 6.41 mmol/L, out sample is worse in therms of cholesterol.\n",
      "\n",
      "\n",
      "\n"
     ]
    },
    {
     "data": {
      "image/png": "[encoded data removed]",
      "text/plain": [
       "<Figure size 640x480 with 1 Axes>"
      ]
     },
     "metadata": {},
     "output_type": "display_data"
    }
   ],
   "source": [
    "'''\n",
    "Q25. If you know that the average cholesterol concentration in healthy adults is 3 mmol/L, would you consider your sample (N=18) significantly better or worse than average adult population? Justify your answer.\n",
    "'''\n",
    "print(\"Performing a shapiro-wilk test to prove it is normally distributed:\")\n",
    "shapiro_test(dataset_cholesterol['Before'])\n",
    "\n",
    "print(f'''\n",
    " As the mean of the sample is bigger then the average population (3 mmol/L), \n",
    " being {dataset_cholesterol['Before'].mean():.2f} mmol/L, \n",
    " our sample is worse in therms of cholesterol.\n",
    "''')\n"
   ]
  }
 ],
 "metadata": {
  "kernelspec": {
   "display_name": ".venv",
   "language": "python",
   "name": "python3"
  },
  "language_info": {
   "codemirror_mode": {
    "name": "ipython",
    "version": 3
   },
   "file_extension": ".py",
   "mimetype": "text/x-python",
   "name": "python",
   "nbconvert_exporter": "python",
   "pygments_lexer": "ipython3",
   "version": "3.12.3"
  }
 },
 "nbformat": 4,
 "nbformat_minor": 2
}
